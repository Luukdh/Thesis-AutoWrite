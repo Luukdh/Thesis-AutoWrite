{
 "cells": [
  {
   "cell_type": "markdown",
   "metadata": {},
   "source": [
    "In this notebook we will be collection the data needed for training the model."
   ]
  },
  {
   "cell_type": "markdown",
   "metadata": {},
   "source": [
    "Importing nessesary libraries"
   ]
  },
  {
   "cell_type": "code",
   "execution_count": null,
   "metadata": {},
   "outputs": [],
   "source": [
    "import sys\n",
    "import matplotlib.pyplot as plt\n",
    "import numpy as np\n",
    "\n",
    "from PyQt5.QtWidgets import (\n",
    "    QApplication,\n",
    "    QMainWindow,\n",
    "    QWidget,\n",
    "    QLabel,\n",
    "    QVBoxLayout,\n",
    "    QHBoxLayout,\n",
    "    QPushButton\n",
    ")\n",
    "\n",
    "from PyQt5.QtGui import (\n",
    "    QPainter,\n",
    "    QColor,\n",
    "    QPixmap,\n",
    "    QColor\n",
    ")\n",
    "import PyQt5.QtCore as QtCore\n",
    "from PyQt5.QtCore import (\n",
    "    Qt\n",
    ")"
   ]
  },
  {
   "cell_type": "markdown",
   "metadata": {},
   "source": [
    "The GUI:"
   ]
  },
  {
   "cell_type": "markdown",
   "metadata": {},
   "source": []
  }
 ],
 "metadata": {
  "kernelspec": {
   "display_name": "project",
   "language": "python",
   "name": "python3"
  },
  "language_info": {
   "codemirror_mode": {
    "name": "ipython",
    "version": 3
   },
   "file_extension": ".py",
   "mimetype": "text/x-python",
   "name": "python",
   "nbconvert_exporter": "python",
   "pygments_lexer": "ipython3",
   "version": "3.10.13"
  },
  "orig_nbformat": 4
 },
 "nbformat": 4,
 "nbformat_minor": 2
}
