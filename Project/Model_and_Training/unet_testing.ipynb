{
 "cells": [
  {
   "cell_type": "markdown",
   "metadata": {},
   "source": [
    "Making of the neural network, training of the neural network, and testing on various model happens here."
   ]
  },
  {
   "cell_type": "code",
   "execution_count": 1,
   "metadata": {},
   "outputs": [],
   "source": [
    "import sys\n",
    "import numpy as np\n",
    "import matplotlib.pyplot as plt\n",
    "import torch\n",
    "import torch.nn as nn\n",
    "from torch.nn.functional import relu"
   ]
  },
  {
   "cell_type": "markdown",
   "metadata": {},
   "source": [
    "U-net model"
   ]
  },
  {
   "cell_type": "code",
   "execution_count": 2,
   "metadata": {},
   "outputs": [],
   "source": [
    "from models_class.unet_das_2 import UNet"
   ]
  },
  {
   "cell_type": "markdown",
   "metadata": {},
   "source": [
    "Load the alphabets."
   ]
  },
  {
   "cell_type": "code",
   "execution_count": 3,
   "metadata": {},
   "outputs": [],
   "source": [
    "import pickle\n",
    "\n",
    "alpha = {}\n",
    "dirty_alpha = {}\n",
    "with open('../Input_Representation/data/other/alphabet.pkl', 'rb') as f:\n",
    "    alpha = pickle.load(f)\n",
    "with open('../Input_Representation/data/other/dirty_alphabet.pkl', 'rb') as f:\n",
    "    dirty_alpha = pickle.load(f)\n"
   ]
  },
  {
   "cell_type": "markdown",
   "metadata": {},
   "source": [
    "Making the dataset and making the Dataloader."
   ]
  },
  {
   "cell_type": "code",
   "execution_count": 4,
   "metadata": {},
   "outputs": [],
   "source": [
    "from torch.utils.data import Dataset, DataLoader, random_split\n",
    "from random_transformation import RandomTransformation\n",
    "\n",
    "class MyDataset(Dataset):\n",
    "    '''\n",
    "    Contains the dataset.\n",
    "    '''\n",
    "    def __init__(self, alpha, dirty_alpha, transform=None):\n",
    "        '''\n",
    "        Initialize the dataset.\n",
    "        '''\n",
    "        self.data = []\n",
    "        self.labels = []\n",
    "        self.n = 5\n",
    "        for key, value in alpha.items():\n",
    "            if key in dirty_alpha:\n",
    "                for i, stroke in enumerate(dirty_alpha[key]):\n",
    "                    self.labels.append(torch.Tensor(value[0]))\n",
    "                    self.data.append(torch.Tensor(stroke))\n",
    "            else:\n",
    "                continue\n",
    "\n",
    "    def __getitem__(self, index):\n",
    "        x = self.data[index // self.n]\n",
    "        y = self.labels[index // self.n]\n",
    "        return x, y\n",
    "\n",
    "    def __len__(self):\n",
    "        return len(self.data)*self.n\n",
    "    \n",
    "class MyDataset2(Dataset):\n",
    "    '''\n",
    "    Contains the dataset.\n",
    "    '''\n",
    "    def __init__(self, alpha, dirty_alpha, transform=None):\n",
    "        '''\n",
    "        Initialize the dataset.\n",
    "        '''\n",
    "        self.data = []\n",
    "        self.labels = []\n",
    "        self.n = 1\n",
    "        for key, value in alpha.items():\n",
    "            if key in dirty_alpha:\n",
    "                for i, stroke in enumerate(dirty_alpha[key]):\n",
    "                    self.labels.append(value[0])\n",
    "                    self.data.append(stroke)\n",
    "            else:\n",
    "                continue\n",
    "\n",
    "    def applyTransform(self, data):\n",
    "        '''\n",
    "        Apply a random transformation to the data.\n",
    "        '''\n",
    "        rand = RandomTransformation()\n",
    "        return rand(data)\n",
    "    \n",
    "    def getData(self, index):\n",
    "        data = self.data[index // self.n]\n",
    "        transformed_data = self.applyTransform(data)\n",
    "        return torch.Tensor(transformed_data.copy())\n",
    "    \n",
    "    def getLabels(self, index):\n",
    "        return torch.Tensor(self.labels[index // self.n])\n",
    "\n",
    "    def __getitem__(self, index):\n",
    "        return self.getData(index), self.getLabels(index)\n",
    "\n",
    "    def __len__(self):\n",
    "        return len(self.data)*self.n\n"
   ]
  },
  {
   "cell_type": "markdown",
   "metadata": {},
   "source": [
    "Compose the random linear transformation on the Tensor."
   ]
  },
  {
   "cell_type": "code",
   "execution_count": 5,
   "metadata": {},
   "outputs": [],
   "source": [
    "# from torchvision.transforms import (\n",
    "    \n",
    "# )"
   ]
  },
  {
   "cell_type": "markdown",
   "metadata": {},
   "source": [
    "Make the Dataloader."
   ]
  },
  {
   "cell_type": "code",
   "execution_count": 6,
   "metadata": {},
   "outputs": [],
   "source": [
    "# dataset = MyDataset(alpha, dirty_alpha)\n",
    "# dataloader = DataLoader(dataset=dataset, batch_size=648, shuffle=True, num_workers=1)\n",
    "dataset = MyDataset2(alpha, dirty_alpha)\n",
    "dataloader = DataLoader(dataset=dataset, batch_size=648, shuffle=True, num_workers=1)\n",
    "# dataset_train, dataset_valid = random_split(dataset, [len(dataset)-72, 72])\n",
    "# dataloader_train = DataLoader(dataset=dataset_train, batch_size=576, shuffle=False, num_workers=1)\n",
    "# dataloader_valid = DataLoader(dataset=dataset_valid, batch_size=72, shuffle=False, num_workers=1)\n",
    "\n",
    "# print(f\"Total amount of Tensors in Training Dataset: {dataloader_train.dataset.__len__()}\")\n",
    "# print(f\"Total amount of Tensors in Validation Dataset: {dataloader_valid.dataset.__len__()}\")"
   ]
  },
  {
   "cell_type": "markdown",
   "metadata": {},
   "source": [
    "Plot the input."
   ]
  },
  {
   "cell_type": "code",
   "execution_count": 7,
   "metadata": {},
   "outputs": [],
   "source": [
    "# dataiter = iter(dataloader)\n",
    "# # dataiter2 = iter(dataloader_valid)\n",
    "# data = next(dataiter)\n",
    "# data2 = next(dataiter)\n",
    "# features, labels = data\n",
    "# features2, labels2 = data2\n",
    "\n",
    "# fig = plt.figure()\n",
    "# ax = fig.add_subplot(111)\n",
    "# ax.plot(features[0].numpy()[0], features[0].numpy()[1]*-1, label=\"dirty\")\n",
    "# ax.plot(features2[0][0], features2[0][1]*-1, label=\"transformed\")\n",
    "# ax.set_aspect('equal', adjustable='box')\n",
    "# ax.legend()\n",
    "\n",
    "# plt.show()"
   ]
  },
  {
   "cell_type": "code",
   "execution_count": 8,
   "metadata": {},
   "outputs": [
    {
     "name": "stdout",
     "output_type": "stream",
     "text": [
      "cuda\n",
      "Epoch [1/20], Step [1/5], Loss: 292.2298\n",
      "Epoch [1/20], Step [2/5], Loss: 287.3981\n",
      "Epoch [1/20], Step [3/5], Loss: 309.2776\n",
      "Epoch [1/20], Step [4/5], Loss: 302.0682\n",
      "Epoch [1/20], Step [5/5], Loss: 299.6113\n",
      "Epoch [2/20], Step [1/5], Loss: 301.1864\n",
      "Epoch [2/20], Step [2/5], Loss: 296.9058\n",
      "Epoch [2/20], Step [3/5], Loss: 296.5472\n",
      "Epoch [2/20], Step [4/5], Loss: 285.4828\n",
      "Epoch [2/20], Step [5/5], Loss: 298.8889\n",
      "Epoch [3/20], Step [1/5], Loss: 293.7852\n",
      "Epoch [3/20], Step [2/5], Loss: 293.6489\n",
      "Epoch [3/20], Step [3/5], Loss: 296.3771\n",
      "Epoch [3/20], Step [4/5], Loss: 294.1680\n",
      "Epoch [3/20], Step [5/5], Loss: 288.0128\n",
      "Epoch [4/20], Step [1/5], Loss: 277.9518\n",
      "Epoch [4/20], Step [2/5], Loss: 295.8112\n",
      "Epoch [4/20], Step [3/5], Loss: 288.9247\n",
      "Epoch [4/20], Step [4/5], Loss: 296.4513\n",
      "Epoch [4/20], Step [5/5], Loss: 290.0526\n",
      "Epoch [5/20], Step [1/5], Loss: 279.8126\n",
      "Epoch [5/20], Step [2/5], Loss: 286.8163\n",
      "Epoch [5/20], Step [3/5], Loss: 294.4590\n",
      "Epoch [5/20], Step [4/5], Loss: 279.9942\n",
      "Epoch [5/20], Step [5/5], Loss: 267.5921\n",
      "Epoch [6/20], Step [1/5], Loss: 259.1542\n",
      "Epoch [6/20], Step [2/5], Loss: 242.4351\n",
      "Epoch [6/20], Step [3/5], Loss: 218.3630\n",
      "Epoch [6/20], Step [4/5], Loss: 196.9074\n",
      "Epoch [6/20], Step [5/5], Loss: 236.9919\n",
      "Epoch [7/20], Step [1/5], Loss: 199.9101\n",
      "Epoch [7/20], Step [2/5], Loss: 173.1371\n",
      "Epoch [7/20], Step [3/5], Loss: 183.4769\n",
      "Epoch [7/20], Step [4/5], Loss: 186.8856\n",
      "Epoch [7/20], Step [5/5], Loss: 182.8490\n",
      "Epoch [8/20], Step [1/5], Loss: 180.4974\n",
      "Epoch [8/20], Step [2/5], Loss: 172.4514\n",
      "Epoch [8/20], Step [3/5], Loss: 155.1604\n",
      "Epoch [8/20], Step [4/5], Loss: 147.4207\n",
      "Epoch [8/20], Step [5/5], Loss: 154.4441\n",
      "Epoch [9/20], Step [1/5], Loss: 160.1666\n",
      "Epoch [9/20], Step [2/5], Loss: 146.4534\n",
      "Epoch [9/20], Step [3/5], Loss: 144.4822\n",
      "Epoch [9/20], Step [4/5], Loss: 142.8105\n",
      "Epoch [9/20], Step [5/5], Loss: 142.0822\n",
      "Epoch [10/20], Step [1/5], Loss: 147.4096\n",
      "Epoch [10/20], Step [2/5], Loss: 143.3913\n",
      "Epoch [10/20], Step [3/5], Loss: 134.7876\n",
      "Epoch [10/20], Step [4/5], Loss: 142.1187\n",
      "Epoch [10/20], Step [5/5], Loss: 141.8837\n",
      "Epoch [11/20], Step [1/5], Loss: 134.4192\n",
      "Epoch [11/20], Step [2/5], Loss: 137.6113\n",
      "Epoch [11/20], Step [3/5], Loss: 141.6979\n",
      "Epoch [11/20], Step [4/5], Loss: 135.8218\n",
      "Epoch [11/20], Step [5/5], Loss: 134.8647\n",
      "Epoch [12/20], Step [1/5], Loss: 139.2981\n",
      "Epoch [12/20], Step [2/5], Loss: 138.0087\n",
      "Epoch [12/20], Step [3/5], Loss: 137.3168\n",
      "Epoch [12/20], Step [4/5], Loss: 134.8329\n",
      "Epoch [12/20], Step [5/5], Loss: 133.3305\n",
      "Epoch [13/20], Step [1/5], Loss: 131.9272\n",
      "Epoch [13/20], Step [2/5], Loss: 134.4582\n",
      "Epoch [13/20], Step [3/5], Loss: 137.8940\n",
      "Epoch [13/20], Step [4/5], Loss: 128.6082\n",
      "Epoch [13/20], Step [5/5], Loss: 131.0514\n",
      "Epoch [14/20], Step [1/5], Loss: 129.6396\n",
      "Epoch [14/20], Step [2/5], Loss: 138.0986\n",
      "Epoch [14/20], Step [3/5], Loss: 133.3529\n",
      "Epoch [14/20], Step [4/5], Loss: 131.2261\n",
      "Epoch [14/20], Step [5/5], Loss: 134.5193\n",
      "Epoch [15/20], Step [1/5], Loss: 130.0034\n",
      "Epoch [15/20], Step [2/5], Loss: 131.6299\n",
      "Epoch [15/20], Step [3/5], Loss: 129.2515\n",
      "Epoch [15/20], Step [4/5], Loss: 131.4629\n",
      "Epoch [15/20], Step [5/5], Loss: 119.4663\n",
      "Epoch [16/20], Step [1/5], Loss: 125.6704\n",
      "Epoch [16/20], Step [2/5], Loss: 131.0312\n",
      "Epoch [16/20], Step [3/5], Loss: 129.5991\n",
      "Epoch [16/20], Step [4/5], Loss: 127.8531\n",
      "Epoch [16/20], Step [5/5], Loss: 136.5935\n",
      "Epoch [17/20], Step [1/5], Loss: 127.1404\n",
      "Epoch [17/20], Step [2/5], Loss: 125.3790\n",
      "Epoch [17/20], Step [3/5], Loss: 128.6304\n",
      "Epoch [17/20], Step [4/5], Loss: 132.1137\n",
      "Epoch [17/20], Step [5/5], Loss: 127.7219\n",
      "Epoch [18/20], Step [1/5], Loss: 132.6457\n",
      "Epoch [18/20], Step [2/5], Loss: 126.1243\n",
      "Epoch [18/20], Step [3/5], Loss: 126.2106\n",
      "Epoch [18/20], Step [4/5], Loss: 128.0479\n",
      "Epoch [18/20], Step [5/5], Loss: 124.7036\n",
      "Epoch [19/20], Step [1/5], Loss: 131.0176\n",
      "Epoch [19/20], Step [2/5], Loss: 125.7138\n",
      "Epoch [19/20], Step [3/5], Loss: 126.0756\n",
      "Epoch [19/20], Step [4/5], Loss: 124.2095\n",
      "Epoch [19/20], Step [5/5], Loss: 126.8367\n",
      "Epoch [20/20], Step [1/5], Loss: 125.5265\n",
      "Epoch [20/20], Step [2/5], Loss: 128.8861\n",
      "Epoch [20/20], Step [3/5], Loss: 128.6638\n",
      "Epoch [20/20], Step [4/5], Loss: 118.3542\n",
      "Epoch [20/20], Step [5/5], Loss: 127.6146\n"
     ]
    }
   ],
   "source": [
    "device = torch.device(\"cuda\" if torch.cuda.is_available() else \"cpu\")\n",
    "# device = torch.device(\"cpu\")\n",
    "print(device)\n",
    "\n",
    "num_epochs = 10\n",
    "learning_rate = 0.0001\n",
    "\n",
    "model = UNet(3).to(device)\n",
    "\n",
    "criterion = nn.MSELoss()\n",
    "optimizer = torch.optim.Adam(model.parameters(), lr=learning_rate)\n",
    "\n",
    "n_total_steps = len(dataloader)\n",
    "losses = []\n",
    "for epoch in range(num_epochs):\n",
    "    for i, (features, labels) in enumerate(dataloader):\n",
    "        features = features.to(device)\n",
    "        labels = labels.to(device)\n",
    "\n",
    "        # forward pass\n",
    "        # outputs = torch.Tensor([interpolate(stroke, 252) for stroke in model(features).detach().numpy()])\n",
    "        outputs = model(features)\n",
    "        loss = criterion(outputs.requires_grad_(), labels)\n",
    "        losses.append(loss.item())\n",
    "\n",
    "        # backward pass\n",
    "        optimizer.zero_grad()\n",
    "        loss.backward()\n",
    "        optimizer.step()\n",
    "\n",
    "        if (i+1) % 1 == 0:\n",
    "            print(f'Epoch [{epoch+1}/{num_epochs}], Step [{i+1}/{n_total_steps}], Loss: {loss.item():.4f}')\n",
    "\n",
    "torch.save(model.state_dict(), './models/model_das_2.ckpt')\n"
   ]
  },
  {
   "cell_type": "code",
   "execution_count": 9,
   "metadata": {},
   "outputs": [
    {
     "data": {
      "image/png": "[encoded data removed]",
      "text/plain": [
       "<Figure size 640x480 with 1 Axes>"
      ]
     },
     "metadata": {},
     "output_type": "display_data"
    }
   ],
   "source": [
    "# torch.save(model.state_dict(), './models/model_plusp.ckpt')\n",
    "\n",
    "with open(\"./data/losses/loss_das_2.pkl\", \"wb\") as f:\n",
    "            pickle.dump(losses, f)\n",
    "\n",
    "# fig = plt.figure()\n",
    "plt.plot(losses, color='red')\n",
    "plt.yscale('log')\n",
    "plt.xlabel('Batch')\n",
    "plt.ylabel('Loss')\n",
    "plt.savefig('figs/loss_das_2.png')\n",
    "plt.show()"
   ]
  },
  {
   "cell_type": "code",
   "execution_count": 10,
   "metadata": {},
   "outputs": [],
   "source": [
    "# n = 10\n",
    "# plt.figure(figsize=(10, 20))\n",
    "# plt.subplots_adjust(hspace=1)\n",
    "# dataloader = DataLoader(dataset=dataset, batch_size=1, shuffle=True, num_workers=1)\n",
    "# dataiter = iter(dataloader)\n",
    "# model = model.to(\"cpu\")\n",
    "\n",
    "# for i, data in enumerate(dataiter):\n",
    "#     if i == n:\n",
    "#         break\n",
    "#     features, labels = data\n",
    "#     outputs = model(features)\n",
    "#     outputs = outputs.to(\"cpu\")\n",
    "\n",
    "#     ax1 = plt.subplot(10, 3, 3*(i)+1)\n",
    "#     ax2 = plt.subplot(10, 3, 3*(i)+2)\n",
    "#     ax3 = plt.subplot(10, 3, 3*(i)+3)\n",
    "    \n",
    "#     ax1.plot(features[0].numpy()[0], features[0].numpy()[1]*-1, color=\"red\", label=\"input\")\n",
    "#     ax2.plot(outputs[0].detach().numpy()[0], outputs[0].detach().numpy()[1]*-1, color=\"blue\", label=\"output\")\n",
    "#     ax3.plot(labels[0].numpy()[0], labels[0].numpy()[1]*-1, color=\"green\", label=\"label\")\n",
    "\n",
    "#     ax1.set_aspect('equal', adjustable='box')\n",
    "#     ax2.set_aspect('equal', adjustable='box')\n",
    "#     ax3.set_aspect('equal', adjustable='box')\n",
    "\n",
    "# plt.show()\n",
    "\n"
   ]
  },
  {
   "cell_type": "code",
   "execution_count": null,
   "metadata": {},
   "outputs": [],
   "source": []
  }
 ],
 "metadata": {
  "kernelspec": {
   "display_name": "project",
   "language": "python",
   "name": "python3"
  },
  "language_info": {
   "codemirror_mode": {
    "name": "ipython",
    "version": 3
   },
   "file_extension": ".py",
   "mimetype": "text/x-python",
   "name": "python",
   "nbconvert_exporter": "python",
   "pygments_lexer": "ipython3",
   "version": "3.10.13"
  }
 },
 "nbformat": 4,
 "nbformat_minor": 2
}
