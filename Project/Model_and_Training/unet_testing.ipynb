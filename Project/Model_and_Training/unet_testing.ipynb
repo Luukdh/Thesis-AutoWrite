{
 "cells": [
  {
   "cell_type": "markdown",
   "metadata": {},
   "source": [
    "Making of the neural network, training of the neural network, and testing on various model happens here."
   ]
  },
  {
   "cell_type": "code",
   "execution_count": 1,
   "metadata": {},
   "outputs": [],
   "source": [
    "import sys\n",
    "import numpy as np\n",
    "import matplotlib.pyplot as plt\n",
    "import torch\n",
    "import torch.nn as nn\n",
    "from torch.nn.functional import relu"
   ]
  },
  {
   "cell_type": "markdown",
   "metadata": {},
   "source": [
    "U-net model"
   ]
  },
  {
   "cell_type": "code",
   "execution_count": 2,
   "metadata": {},
   "outputs": [
    {
     "ename": "ModuleNotFoundError",
     "evalue": "No module named 'unet_xxp'",
     "output_type": "error",
     "traceback": [
      "\u001b[0;31m---------------------------------------------------------------------------\u001b[0m",
      "\u001b[0;31mModuleNotFoundError\u001b[0m                       Traceback (most recent call last)",
      "\u001b[1;32m/home/luuk-laptop/Documents/Scriptie_2024/Project/Model_and_Training/unet_testing.ipynb Cell 4\u001b[0m line \u001b[0;36m1\n\u001b[0;32m----> <a href='vscode-notebook-cell:/home/luuk-laptop/Documents/Scriptie_2024/Project/Model_and_Training/unet_testing.ipynb#W3sZmlsZQ%3D%3D?line=0'>1</a>\u001b[0m \u001b[39mfrom\u001b[39;00m \u001b[39munet_xxp\u001b[39;00m \u001b[39mimport\u001b[39;00m UNet\n",
      "\u001b[0;31mModuleNotFoundError\u001b[0m: No module named 'unet_xxp'"
     ]
    }
   ],
   "source": [
    "from unet_xxp import UNet"
   ]
  },
  {
   "cell_type": "markdown",
   "metadata": {},
   "source": [
    "Load the alphabets."
   ]
  },
  {
   "cell_type": "code",
   "execution_count": null,
   "metadata": {},
   "outputs": [],
   "source": [
    "import pickle\n",
    "\n",
    "alpha = {}\n",
    "dirty_alpha = {}\n",
    "with open('../Input_Representation/data/other/alphabet.pkl', 'rb') as f:\n",
    "    alpha = pickle.load(f)\n",
    "with open('../Input_Representation/data/other/dirty_alphabet.pkl', 'rb') as f:\n",
    "    dirty_alpha = pickle.load(f)\n"
   ]
  },
  {
   "cell_type": "markdown",
   "metadata": {},
   "source": [
    "Making the dataset and making the Dataloader."
   ]
  },
  {
   "cell_type": "code",
   "execution_count": null,
   "metadata": {},
   "outputs": [],
   "source": [
    "import torchvision\n",
    "\n",
    "class transpose:\n",
    "    def __init__(self):\n",
    "        pass\n",
    "\n",
    "    def __call__(self, sample):\n",
    "        return sample.T\n",
    "\n",
    "class flatten:\n",
    "    def __init__(self):\n",
    "        pass\n",
    "\n",
    "    def __call__(self, sample):\n",
    "        new_sample = sample.flatten()\n",
    "\n",
    "transform = torchvision.transforms.Compose([transpose(), flatten(), transpose()])"
   ]
  },
  {
   "cell_type": "code",
   "execution_count": null,
   "metadata": {},
   "outputs": [],
   "source": [
    "from torch.utils.data import Dataset, DataLoader\n",
    "\n",
    "class MyDataset(Dataset):\n",
    "    '''\n",
    "    Contains the dataset.\n",
    "    '''\n",
    "    # def __init__(self, alpha, dirty_alpha, transform=None):\n",
    "    #     '''\n",
    "    #     Initialize the dataset.\n",
    "    #     '''\n",
    "    #     self.data = []\n",
    "    #     self.labels = []\n",
    "    #     for key, value in alpha.items():\n",
    "    #         if key in dirty_alpha:\n",
    "    #             for i, stroke in enumerate(dirty_alpha[key]):\n",
    "    #                 self.labels.append(torch.Tensor(value[0]))\n",
    "    #                 self.data.append(torch.Tensor(stroke))\n",
    "    #         else:\n",
    "    #             continue\n",
    "    #     self.data = np.array(self.data, dtype=torch.Tensor)\n",
    "    #     self.labels = np.array(self.labels, dtype=torch.Tensor)\n",
    "\n",
    "    def __init__(self, alpha, dirty_alpha, transform=None):\n",
    "        '''\n",
    "        Initialize the dataset.\n",
    "        '''\n",
    "        self.data = []\n",
    "        self.labels = []\n",
    "        self.n = 1\n",
    "        for key, value in alpha.items():\n",
    "            if key in dirty_alpha:\n",
    "                for i, stroke in enumerate(dirty_alpha[key]):\n",
    "                    self.labels.append(torch.Tensor(value[0]))\n",
    "                    self.data.append(torch.Tensor(stroke))\n",
    "            else:\n",
    "                continue\n",
    "\n",
    "    def __getitem__(self, index):\n",
    "        x = self.data[index // self.n]\n",
    "        y = self.labels[index // self.n]\n",
    "        return x, y\n",
    "\n",
    "    def __len__(self):\n",
    "        return len(self.data)*self.n\n",
    "\n",
    "dataset = MyDataset(alpha, dirty_alpha)\n",
    "# dataset_test = torchvision.datasets.MNIST(root='./data', train=True, download=True, transform=torchvision.transforms.ToTensor())\n",
    "dataloader = DataLoader(dataset=dataset, batch_size=362, shuffle=True, num_workers=1)"
   ]
  },
  {
   "cell_type": "code",
   "execution_count": null,
   "metadata": {},
   "outputs": [],
   "source": [
    "dataiter = iter(dataloader)\n",
    "data = next(dataiter)\n",
    "features, labels = data\n",
    "print(features[0].shape, labels[0].shape)\n",
    "# print(features[0].numpy())\n",
    "\n",
    "fig = plt.figure()\n",
    "ax = fig.add_subplot(111)\n",
    "ax.plot(features[0].numpy()[0], features[0].numpy()[1]*-1, label=\"dirty\")\n",
    "ax.plot(labels[0].numpy()[0], labels[0].numpy()[1]*-1, label=\"neat\")\n",
    "ax.set_aspect('equal', adjustable='box')\n",
    "ax.legend()\n",
    "\n",
    "plt.show()"
   ]
  },
  {
   "cell_type": "code",
   "execution_count": null,
   "metadata": {},
   "outputs": [],
   "source": [
    "def interpolate(stroke, length):\n",
    "        '''\n",
    "        This funtion takes a normal input stroke and returns a stroke \n",
    "        with the a contant length of \"len\" using linear interpolation.\n",
    "        '''\n",
    "        x, y, p = stroke\n",
    "        size = stroke.shape[1]\n",
    "        interp_x = np.interp(np.linspace(0, size, length, endpoint=True), np.arange(size), x)\n",
    "        interp_y = np.interp(np.linspace(0, size, length, endpoint=True), np.arange(size), y)\n",
    "        interp_p = np.interp(np.linspace(0, size, length, endpoint=True), np.arange(size), p)\n",
    "        return np.stack([interp_x, interp_y, interp_p], axis=0)"
   ]
  },
  {
   "cell_type": "code",
   "execution_count": null,
   "metadata": {},
   "outputs": [],
   "source": [
    "device = torch.device(\"cuda\" if torch.cuda.is_available() else \"cpu\")\n",
    "# device = torch.device(\"cpu\")\n",
    "print(device)\n",
    "\n",
    "num_epochs = 1000\n",
    "learning_rate = 0.0001\n",
    "\n",
    "model = UNet(3).to(device)\n",
    "\n",
    "criterion = nn.MSELoss()\n",
    "optimizer = torch.optim.Adam(model.parameters(), lr=learning_rate)\n",
    "\n",
    "n_total_steps = len(dataloader)\n",
    "losses = []\n",
    "for epoch in range(num_epochs):\n",
    "    for i, (features, labels) in enumerate(dataloader):\n",
    "        features = features.to(device)\n",
    "        labels = labels.to(device)\n",
    "\n",
    "        # forward pass\n",
    "        # outputs = torch.Tensor([interpolate(stroke, 252) for stroke in model(features).detach().numpy()])\n",
    "        outputs = model(features)\n",
    "        loss = criterion(outputs.requires_grad_(), labels)\n",
    "        losses.append(loss.item())\n",
    "\n",
    "        # backward pass\n",
    "        optimizer.zero_grad()\n",
    "        loss.backward()\n",
    "        optimizer.step()\n",
    "\n",
    "        if (i+1) % 1 == 0:\n",
    "            print(f'Epoch [{epoch+1}/{num_epochs}], Step [{i+1}/{n_total_steps}], Loss: {loss.item():.4f}')\n",
    "\n",
    "torch.save(model.state_dict(), 'model_xxp.ckpt')\n"
   ]
  },
  {
   "cell_type": "code",
   "execution_count": null,
   "metadata": {},
   "outputs": [],
   "source": [
    "fig = plt.figure()\n",
    "plt.plot(losses[100:-1], color='red')\n",
    "plt.yscale('log')\n",
    "plt.xlabel('Batch')\n",
    "plt.ylabel('Loss')\n",
    "plt.show()\n",
    "plt.savefig('figs/loss_xxp.png')"
   ]
  },
  {
   "cell_type": "code",
   "execution_count": null,
   "metadata": {},
   "outputs": [],
   "source": [
    "n = 10\n",
    "plt.figure(figsize=(10, 20))\n",
    "plt.subplots_adjust(hspace=1)\n",
    "dataloader = DataLoader(dataset=dataset, batch_size=1, shuffle=True, num_workers=1)\n",
    "dataiter = iter(dataloader)\n",
    "model = model.to(\"cpu\")\n",
    "\n",
    "for i, data in enumerate(dataiter):\n",
    "    if i == n:\n",
    "        break\n",
    "    features, labels = data\n",
    "    outputs = model(features)\n",
    "    outputs = outputs.to(\"cpu\")\n",
    "\n",
    "    ax1 = plt.subplot(10, 3, 3*(i)+1)\n",
    "    ax2 = plt.subplot(10, 3, 3*(i)+2)\n",
    "    ax3 = plt.subplot(10, 3, 3*(i)+3)\n",
    "    \n",
    "    ax1.plot(features[0].numpy()[0], features[0].numpy()[1]*-1, color=\"red\", label=\"input\")\n",
    "    ax2.plot(outputs[0].detach().numpy()[0], outputs[0].detach().numpy()[1]*-1, color=\"blue\", label=\"output\")\n",
    "    ax3.plot(labels[0].numpy()[0], labels[0].numpy()[1]*-1, color=\"green\", label=\"label\")\n",
    "\n",
    "    ax1.set_aspect('equal', adjustable='box')\n",
    "    ax2.set_aspect('equal', adjustable='box')\n",
    "    ax3.set_aspect('equal', adjustable='box')\n",
    "\n",
    "plt.show()\n",
    "\n"
   ]
  },
  {
   "cell_type": "code",
   "execution_count": null,
   "metadata": {},
   "outputs": [],
   "source": []
  }
 ],
 "metadata": {
  "kernelspec": {
   "display_name": "project",
   "language": "python",
   "name": "python3"
  },
  "language_info": {
   "codemirror_mode": {
    "name": "ipython",
    "version": 3
   },
   "file_extension": ".py",
   "mimetype": "text/x-python",
   "name": "python",
   "nbconvert_exporter": "python",
   "pygments_lexer": "ipython3",
   "version": "3.10.13"
  }
 },
 "nbformat": 4,
 "nbformat_minor": 2
}
