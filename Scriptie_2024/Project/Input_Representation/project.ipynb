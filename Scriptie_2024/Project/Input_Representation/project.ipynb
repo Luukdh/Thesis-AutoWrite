{
 "cells": [
  {
   "cell_type": "markdown",
   "metadata": {},
   "source": [
    "This is a notebook mainly used for testing implementations and experimenting with new features."
   ]
  },
  {
   "cell_type": "markdown",
   "metadata": {},
   "source": [
    "Imported libraries"
   ]
  },
  {
   "cell_type": "code",
   "execution_count": 1,
   "metadata": {},
   "outputs": [],
   "source": [
    "import sys\n",
    "import numpy as np\n",
    "import matplotlib.pyplot as plt\n",
    "# import torch\n",
    "# import torch.nn as nn\n",
    "\n",
    "# import torch.optim as optim\n",
    "\n",
    "# Source: https://stackoverflow.com/questions/48873483/python-example-for-wacom-tablets\n",
    "from PyQt5 import (\n",
    "    QtCore,\n",
    "    QtGui,\n",
    "    QtWidgets\n",
    ")\n",
    "from PyQt5.QtCore import *\n",
    "from PyQt5.QtGui import *\n",
    "from PyQt5.QtWidgets import *\n",
    "\n",
    "# Source: https://stackoverflow.com/questions/54003194/how-can-i-access-tablet-pen-data-via-python\n",
    "# import pyglet\n",
    "\n",
    "# import evdev\n"
   ]
  },
  {
   "cell_type": "markdown",
   "metadata": {},
   "source": [
    "Raw Input-Data extraction\n",
    "\n",
    "NO SUCCESS"
   ]
  },
  {
   "cell_type": "code",
   "execution_count": 2,
   "metadata": {},
   "outputs": [],
   "source": [
    "# devices = [evdev.InputDevice(path) for path in evdev.list_devices()]\n",
    "\n",
    "# for device in devices:\n",
    "#     print(device.path, device.name, device.phys)"
   ]
  },
  {
   "cell_type": "code",
   "execution_count": 3,
   "metadata": {},
   "outputs": [],
   "source": [
    "# device = evdev.InputDevice('/dev/input/mouse3')\n",
    "# print(device)"
   ]
  },
  {
   "cell_type": "code",
   "execution_count": 4,
   "metadata": {},
   "outputs": [],
   "source": [
    "# devices = [evdev.InputDevice(path) for path in evdev.list_devices()]\n",
    "\n",
    "# for device in devices:\n",
    "#     print(device.path, device.name, device.phys)"
   ]
  },
  {
   "cell_type": "markdown",
   "metadata": {},
   "source": [
    "Visualising the input data of the tablet, but not in optimal way.\n",
    "\n",
    "Source: https://stackoverflow.com/questions/48873483/python-example-for-wacom-tablets"
   ]
  },
  {
   "cell_type": "code",
   "execution_count": 5,
   "metadata": {},
   "outputs": [],
   "source": [
    "class TabletSampleWindow(QWidget):\n",
    "    def __init__(self, parent=None):\n",
    "        super(TabletSampleWindow, self).__init__(parent)\n",
    "        # super().__init__()\n",
    "        self.f = open(\"strokes/test.txt\", \"w\")\n",
    "        self.stroke_counter = 0\n",
    "\n",
    "        self.pen_is_down = False\n",
    "        self.pen_x = 0\n",
    "        self.pen_y = 0\n",
    "        self.pen_pressure = 0\n",
    "        self.text = \"\"\n",
    "        # Resizing the sample window to full desktop size:\n",
    "        frame_rect = app.desktop().frameGeometry()\n",
    "        width, height = frame_rect.width(), frame_rect.height()\n",
    "        self.resize(width, height)\n",
    "        self.move(-9, 0)\n",
    "        self.setWindowTitle(\"Sample Tablet Event Handling\")\n",
    "\n",
    "    def tabletEvent(self, tabletEvent):\n",
    "        self.pen_x = tabletEvent.pos()\n",
    "        self.pen_y = tabletEvent.pos()\n",
    "        self.pen_pressure = int(tabletEvent.pressure() * 100)\n",
    "        if tabletEvent.type() == QTabletEvent.TabletPress:\n",
    "            self.pen_is_down = True\n",
    "            self.text = \"TabletPress event\"\n",
    "        elif tabletEvent.type() == QTabletEvent.TabletMove:\n",
    "            self.pen_is_down = True\n",
    "            self.text = \"TabletMove event\"\n",
    "        elif tabletEvent.type() == QTabletEvent.TabletRelease:\n",
    "            self.pen_is_down = False\n",
    "            self.text = \"TabletRelease event\"\n",
    "        self.text += \" at x={0}, y={1}, pressure={2}%,\".format(self.pen_x, self.pen_y, self.pen_pressure)\n",
    "        \n",
    "        if self.pen_is_down:\n",
    "            # self.f = open(f\"strokes/stroke_{self.stroke_counter}.txt\", \"w\")\n",
    "\n",
    "            self.text += \" Pen is down.\"\n",
    "        else:\n",
    "            self.text += \" Pen is up.\"\n",
    "            # self.stroke_counter += 1\n",
    "            # self.f.close()\n",
    "            # self.f = open(f\"strokes/stroke_{self.stroke_counter}.txt\", \"w\")\n",
    "\n",
    "        self.f.write(f\"[{self.pen_x},{self.pen_y},{self.pen_pressure}]\\n\")\n",
    "        \n",
    "        tabletEvent.accept()\n",
    "        self.update()\n",
    "\n",
    "    def paintEvent(self, event):\n",
    "        text = self.text\n",
    "        i = text.find(\"\\n\\n\")\n",
    "        if i >= 0:\n",
    "            text = text.left(i)\n",
    "        painter = QPainter(self)\n",
    "        painter.setRenderHint(QPainter.TextAntialiasing)\n",
    "        painter.drawText(self.rect(), Qt.AlignTop | Qt.AlignLeft , text)\n"
   ]
  },
  {
   "cell_type": "code",
   "execution_count": 6,
   "metadata": {},
   "outputs": [],
   "source": [
    "class InputWidget(QWidget):\n",
    "    \"\"\" Input widget. \"\"\"\n",
    "    def __init__(self, width, height, which_type):\n",
    "        \"\"\" Initializer. \"\"\"\n",
    "        super().__init__()\n",
    "        # self.label = QLabel()\n",
    "        # self.label.setText(\"Input field\")\n",
    "        # self.label.setFixedSize(100, 20)\n",
    "        # self.label.setAlignment(\n",
    "        #         QtCore.Qt.AlignHCenter | QtCore.Qt.AlignVCenter\n",
    "        # )\n",
    "\n",
    "        self.widget = QLabel()\n",
    "        self.widget.setAlignment(\n",
    "                QtCore.Qt.AlignHCenter | QtCore.Qt.AlignVCenter\n",
    "        )\n",
    "        self.setCursor(QtCore.Qt.CrossCursor)\n",
    "\n",
    "        canvas = QPixmap(width, height)\n",
    "        colour = QtGui.QColor(255, 255, 255, 220)\n",
    "        canvas.fill(colour) # Fill canvas with color (default is white).\n",
    "        self.widget.setPixmap(canvas)\n",
    "        # self.setCentralWidget(self.widget)\n",
    "        self.widget.show()\n",
    "\n",
    "        # layout = QVBoxLayout()\n",
    "        # layout.addWidget(self.label, alignment=QtCore.Qt.AlignCenter)\n",
    "        # layout.addWidget(self.widget, alignment=QtCore.Qt.AlignCenter)\n",
    "        # self.setLayout(layout)\n",
    "\n",
    "        self.initialize_offsets()\n",
    "\n",
    "        self.last_x, self.last_y = None, None\n",
    "        self.current_stroke = []\n",
    "        self.history = []\n",
    "\n",
    "        self.setStyleSheet(\"background-image: url(alpha.png);\")\n",
    "\n",
    "\n",
    "    def initialize_offsets(self):\n",
    "        \"\"\"\n",
    "        Keep track of the offset of the drawing canvas in the widget and the\n",
    "        cursor offset while drawing.\n",
    "        \"\"\"\n",
    "        self.canvas_offset_left = (self.widget.width() -\n",
    "                self.widget.pixmap().width())/2\n",
    "        self.canvas_offset_top = (self.widget.height() -\n",
    "                self.widget.pixmap().height())/2\n",
    "        self.cursor_offset_top = 0\n",
    "        self.cursor_offset_left = 0\n",
    "\n",
    "    def getHistory(self):\n",
    "        \"\"\" Returns current input. \"\"\"\n",
    "        return self.history\n",
    "\n",
    "    def getCurrentStroke(self):\n",
    "        \"\"\" Returns the values stored for the current stroke. \"\"\"\n",
    "        return self.current_stroke\n",
    "\n",
    "    def getLastX(self):\n",
    "        \"\"\" Returns last x coordinate. \"\"\"\n",
    "        return self.last_x\n",
    "\n",
    "    def getLastY(self):\n",
    "        \"\"\" Returns last y coordinate. \"\"\"\n",
    "        return self.last_y\n",
    "\n",
    "    def clearCanvas(self):\n",
    "        \"\"\" Clears drawing canvas. \"\"\"\n",
    "        self.widget.pixmap().fill()\n",
    "        self.history = []\n",
    "        self.update()\n",
    "\n",
    "    def tabletEvent(self, event):\n",
    "        \"\"\" Handles tablet events. \"\"\"\n",
    "        current_x = int(event.x() - self.canvas_offset_left -\n",
    "                self.cursor_offset_left)\n",
    "        current_y = int(event.y() - self.canvas_offset_top -\n",
    "                self.cursor_offset_top)\n",
    "\n",
    "        if self.last_x is None: # First event.\n",
    "            self.last_x = current_x\n",
    "            self.last_y = current_y\n",
    "            return # Ignore the first time.\n",
    "\n",
    "        painter = QPainter(self.widget.pixmap())\n",
    "        painter.drawLine(self.last_x, self.last_y, current_x, current_y)\n",
    "        painter.end()\n",
    "        self.update()\n",
    "\n",
    "        # Update the origin for next time.\n",
    "        self.last_x = current_x\n",
    "        self.last_y = current_y\n",
    "        self.current_stroke.append(\n",
    "                [\n",
    "                    self.last_x,\n",
    "                    self.last_y,\n",
    "                    QtCore.QDateTime.currentMSecsSinceEpoch()\n",
    "                ]\n",
    "        )\n",
    "\n",
    "    def mouseReleaseEvent(self, event):\n",
    "        \"\"\"\n",
    "        If the mouse is released that means the end of the current stroke.\n",
    "        The stroke is added to the history.\n",
    "        \"\"\"\n",
    "        if len(self.current_stroke) > 0:\n",
    "            self.history.append(self.current_stroke)\n",
    "\n",
    "        self.current_stroke = []\n",
    "        self.last_x = None\n",
    "        self.last_y = None\n",
    "\n",
    "    def resizeEvent(self, event):\n",
    "        \"\"\" Handles resizing of the canvas. \"\"\"\n",
    "        self.canvas_offset_left =(self.widget.width() -\n",
    "                self.widget.pixmap().width())/2\n",
    "        self.canvas_offset_top =(self.widget.height() -\n",
    "                self.widget.pixmap().height())/2"
   ]
  },
  {
   "cell_type": "code",
   "execution_count": 7,
   "metadata": {},
   "outputs": [
    {
     "data": {
      "text/plain": [
       "0"
      ]
     },
     "execution_count": 7,
     "metadata": {},
     "output_type": "execute_result"
    }
   ],
   "source": [
    "app = QApplication(sys.argv)\n",
    "mainform = InputWidget(600, 400, \"alpha\")\n",
    "input = []\n",
    "mainform.show()\n",
    "app.exec_()"
   ]
  },
  {
   "cell_type": "code",
   "execution_count": null,
   "metadata": {},
   "outputs": [],
   "source": [
    "\n"
   ]
  },
  {
   "cell_type": "markdown",
   "metadata": {},
   "source": []
  }
 ],
 "metadata": {
  "kernelspec": {
   "display_name": "Python 3 (ipykernel)",
   "language": "python",
   "name": "python3"
  },
  "language_info": {
   "codemirror_mode": {
    "name": "ipython",
    "version": 3
   },
   "file_extension": ".py",
   "mimetype": "text/x-python",
   "name": "python",
   "nbconvert_exporter": "python",
   "pygments_lexer": "ipython3",
   "version": "3.10.13"
  }
 },
 "nbformat": 4,
 "nbformat_minor": 2
}
